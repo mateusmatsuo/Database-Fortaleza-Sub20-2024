{
 "cells": [
  {
   "cell_type": "markdown",
   "id": "78d861bc",
   "metadata": {},
   "source": [
    "# Desafio 01\n",
    "\n",
    "No futebol moderno, empresas especializadas coletam dados e geram estatísticas dos atletas: finalizações, passes, gols, defesas… Esses dados são fundamentais para a\n",
    "análise de desempenho e ajudam na tomada de decisões de técnicos, preparadores e analistas.\n",
    "\n",
    "Mas e quando esses dados simplesmente não existem?\n",
    "\n",
    "Isso é muito comum nas categorias de base, como sub-20, sub-17, sub-15… quanto menor a categoria, maior a escassez de informações.\n",
    "\n",
    "E é aí que entra o seu desafio como futuro analista de dados!\n",
    "\n",
    "### Missão\n",
    "\n",
    "Você foi contratado para criar uma base de dados dos atletas da categoria de base do Fortaleza . Isso mesmo! Você vai estruturar os dados e já deixá-los prontos para futuras análises.\n",
    "\n",
    "### Requisitos\n",
    "\n",
    "**Quantidade mínima de atletas: 16.**\n",
    "\n",
    "Dica: pense como um analista!\n",
    "Quantos goleiros são necessários?\n",
    "Quantos zagueiros, laterais, meio-campistas e atacantes?\n",
    "\n",
    "Monte uma base com **11 titulares e pelo menos 5 reservas** (mas você pode incluir mais, se quiser!).\n",
    "\n",
    "**Informações obrigatórias de cada atleta:**\n",
    "    \n",
    "- Nome\n",
    "- Idade ou data de nascimento\n",
    "- Posição\n",
    "- Nacionalidade\n",
    "- Número de partidas\n",
    "- Total de minutos jogados\n",
    "- Gols marcados\n",
    "- Assistências\n",
    "\n",
    "**Bônus:** Se quiser adicionar mais campos (ex: número da camisa, altura, perna dominante…), pode também!\n",
    "\n",
    "### Validação\n",
    "\n",
    "**Valide sua estrutura com 3 exemplos:**\n",
    "\n",
    "Depois de montar sua base de dados, imprima os dados de pelo menos 3 atletas, como nos exemplos abaixo:\n",
    "\n",
    "- O nome de um **atacante**, com seu número de gols e partidas.\n",
    "- O nome de um **zagueiro**, com idade, número de partidas e minutos jogados.\n",
    "- O nome de um **meio-campista**, com posição, nacionalidade e número de assistências."
   ]
  },
  {
   "cell_type": "markdown",
   "id": "3fc53983",
   "metadata": {},
   "source": [
    "---"
   ]
  },
  {
   "cell_type": "markdown",
   "id": "74240ac5",
   "metadata": {},
   "source": [
    "### Web Scraping\n",
    "\n",
    "A coleta de dados para esse projeto foi realizada através de um web scraping do site Ogol.\n",
    "\n",
    "Os dados coletados são referentes ao plantel da equipe sub-20 do Fortaleza no Brasileirão sub-20 de 2024. "
   ]
  },
  {
   "cell_type": "code",
   "execution_count": 9,
   "id": "e1d6d713",
   "metadata": {},
   "outputs": [],
   "source": [
    "import requests\n",
    "from bs4 import BeautifulSoup\n",
    "\n",
    "url_base = \"https://www.ogol.com.br\"\n",
    "url_fortaleza = \"https://www.ogol.com.br/equipe/fortaleza/58110?epoca_id=153\"\n",
    "\n",
    "headers = {\n",
    "    \"User-Agent\": \"Mozilla/5.0 (Windows NT 10.0; Win64; x64) AppleWebKit/537.36 (KHTML, like Gecko) Chrome/58.0.3029.110 Safari/537.3\"\n",
    "}\n",
    "\n",
    "response = requests.get(url_fortaleza, headers=headers)"
   ]
  },
  {
   "cell_type": "code",
   "execution_count": 10,
   "id": "c30ca3ee",
   "metadata": {},
   "outputs": [
    {
     "data": {
      "text/plain": [
       "200"
      ]
     },
     "execution_count": 10,
     "metadata": {},
     "output_type": "execute_result"
    }
   ],
   "source": [
    "response.status_code"
   ]
  },
  {
   "cell_type": "markdown",
   "id": "2f280448",
   "metadata": {},
   "source": [
    "Primeiramente, foi realizado a coleta dos links das páginas de cada jogador para poder acessar seus respectivos dados e estatísticas. Esses links estavam atrelados ao nome de cada jogador por meio da tag html `<a>`.   "
   ]
  },
  {
   "cell_type": "code",
   "execution_count": 11,
   "id": "eee4c3bd",
   "metadata": {},
   "outputs": [
    {
     "name": "stdout",
     "output_type": "stream",
     "text": [
      "Foram encontrados 58 jogadores do Fortaleza sub-20 na temporada de 2024.\n",
      "3 primeiros jogadores encontrados:\n",
      "1. Luizão - https://www.ogol.com.br/jogador/luizao/719536?epoca_id=153\n",
      "2. Marcelo Catto - https://www.ogol.com.br/jogador/marcelo-catto/974983?epoca_id=153\n",
      "3. Eduardo Salvador - https://www.ogol.com.br/jogador/eduardo-salvador/991749?epoca_id=153\n"
     ]
    }
   ],
   "source": [
    "soup = BeautifulSoup(response.content, 'html.parser')\n",
    "jogadores_div = soup.select('div.staff div.micrologo_and_text div.text a[href*=\"/jogador/\"]')\n",
    "\n",
    "jogadores_links = []\n",
    "\n",
    "for jogador in jogadores_div:\n",
    "    nome = jogador.get_text(strip=True)\n",
    "    link = jogador.get('href')\n",
    "    \n",
    "    jogadores_links.append({\n",
    "        \"nome\": nome,\n",
    "        \"link\": url_base + link\n",
    "    })\n",
    "    \n",
    "print(f\"Foram encontrados {len(jogadores_links)} jogadores do Fortaleza sub-20 na temporada de 2024.\")\n",
    "print(\"3 primeiros jogadores encontrados:\")\n",
    "\n",
    "for i, jogador in enumerate(jogadores_links[:3]):\n",
    "    print(f\"{i+1}. {jogador[\"nome\"]} - {jogador[\"link\"]}\")"
   ]
  },
  {
   "cell_type": "markdown",
   "id": "a21ad6f7",
   "metadata": {},
   "source": [
    "Após coletar os links de todos os jogadores, foi acessado um por um para extrair tanto os dados pessoais quanto os dados estatísticos referentes ao Brasileirão sub-20 de 2024 de cada jogador. \n",
    "\n",
    "A estrutura de dados utilizada para armezanar os dados dos jogadores foi uma **lista de dicionários (estrutura aninhada)**, onde cada elemento da lista é um jogador (dicionário) com suas informações. A decisão de utilizar essa estrutura de dados foi por conta de uma facilidade maior de iterar e buscar informações, além de ser mais simples para exportar para CSV ou JSON. "
   ]
  },
  {
   "cell_type": "code",
   "execution_count": 12,
   "id": "39d60e45",
   "metadata": {},
   "outputs": [
    {
     "name": "stdout",
     "output_type": "stream",
     "text": [
      "Iniciando a coleta de dados dos jogadores...\n",
      "\n",
      "Coletando dados do jogador 1 de 58: Luizão\n",
      "Coletando dados do jogador 2 de 58: Marcelo Catto\n",
      "O jogador Marcelo Chaud Catto não disputou o Brasileirão sub-20 na temporada de 2024.\n",
      "\n",
      "Coletando dados do jogador 3 de 58: Eduardo Salvador\n",
      "O jogador Eduardo Salvador Correia não disputou o Brasileirão sub-20 na temporada de 2024.\n",
      "\n",
      "Coletando dados do jogador 4 de 58: Murilo D'Angelo\n",
      "Coletando dados do jogador 5 de 58: Carlos Brito\n",
      "O jogador Carlos Manoel Ferreira Brito não disputou o Brasileirão sub-20 na temporada de 2024.\n",
      "\n",
      "Coletando dados do jogador 6 de 58: Khendran\n",
      "O jogador Khendran Andryel Tomaz Santos não disputou o Brasileirão sub-20 na temporada de 2024.\n",
      "\n",
      "Coletando dados do jogador 7 de 58: Guilherme Moura\n",
      "Coletando dados do jogador 8 de 58: Cristovam\n",
      "Coletando dados do jogador 9 de 58: Bruno Moreira\n",
      "Coletando dados do jogador 10 de 58: Micaell\n",
      "O jogador Micaell Torres da Silva Antunes não disputou o Brasileirão sub-20 na temporada de 2024.\n",
      "\n",
      "Coletando dados do jogador 11 de 58: Denzel\n",
      "O jogador Denzel Washington Brito dos Santos não disputou o Brasileirão sub-20 na temporada de 2024.\n",
      "\n",
      "Coletando dados do jogador 12 de 58: Gustavo Silva\n",
      "Coletando dados do jogador 13 de 58: Geilson Souza\n",
      "O jogador Geilson de Souza Alves não disputou o Brasileirão sub-20 na temporada de 2024.\n",
      "\n",
      "Coletando dados do jogador 14 de 58: Samuel Brunhara\n",
      "Coletando dados do jogador 15 de 58: Riquelme\n",
      "O jogador Riquelme De Sousa Gomes Inacio não disputou o Brasileirão sub-20 na temporada de 2024.\n",
      "\n",
      "Coletando dados do jogador 16 de 58: João Henrique\n",
      "O jogador João Henrique Correia Silva não disputou o Brasileirão sub-20 na temporada de 2024.\n",
      "\n",
      "Coletando dados do jogador 17 de 58: Kaiky\n",
      "Coletando dados do jogador 18 de 58: Pedro Alves\n",
      "Coletando dados do jogador 19 de 58: Gustavo Mancha\n",
      "Coletando dados do jogador 20 de 58: João Vitor\n",
      "O jogador João Vitor Führ não disputou o Brasileirão sub-20 na temporada de 2024.\n",
      "\n",
      "Coletando dados do jogador 21 de 58: Tony Lucas\n",
      "Coletando dados do jogador 22 de 58: Juliano Lima\n",
      "Coletando dados do jogador 23 de 58: Michael Quarcoo\n",
      "Coletando dados do jogador 24 de 58: Arthur Barbosa\n",
      "Coletando dados do jogador 25 de 58: Michel\n",
      "Coletando dados do jogador 26 de 58: Gabriel Martins\n",
      "Coletando dados do jogador 27 de 58: Gabriel Cunha\n",
      "Coletando dados do jogador 28 de 58: Bruninho\n",
      "Coletando dados do jogador 29 de 58: Tavinho\n",
      "Coletando dados do jogador 30 de 58: Fubá\n",
      "O jogador João Vitor Gomes Lucio da Silva não disputou o Brasileirão sub-20 na temporada de 2024.\n",
      "\n",
      "Coletando dados do jogador 31 de 58: Lucas Emanoel\n",
      "O jogador Lucas Emanoel de Abreu dos Reis não disputou o Brasileirão sub-20 na temporada de 2024.\n",
      "\n",
      "Coletando dados do jogador 32 de 58: Pedro Rylner\n",
      "O jogador Pedro Rylner Abreu de Sousa não disputou o Brasileirão sub-20 na temporada de 2024.\n",
      "\n",
      "Coletando dados do jogador 33 de 58: Gustavo Marques\n",
      "O jogador Gustavo de Sousa Marques não disputou o Brasileirão sub-20 na temporada de 2024.\n",
      "\n",
      "Coletando dados do jogador 34 de 58: Kauã Teixeira\n",
      "O jogador Kauã Alves Teixeira não disputou o Brasileirão sub-20 na temporada de 2024.\n",
      "\n",
      "Coletando dados do jogador 35 de 58: Alex Amorim\n",
      "Coletando dados do jogador 36 de 58: Caio Dantas\n",
      "O jogador Caio Dantas Batista de Maria não disputou o Brasileirão sub-20 na temporada de 2024.\n",
      "\n",
      "Coletando dados do jogador 37 de 58: Breno Alan\n",
      "Coletando dados do jogador 38 de 58: Brayan\n",
      "O jogador Brayan Pereira Rosa não disputou o Brasileirão sub-20 na temporada de 2024.\n",
      "\n",
      "Coletando dados do jogador 39 de 58: Vinícius Vianna\n",
      "O jogador Vinícius Gabriel Vianna da Silva não disputou o Brasileirão sub-20 na temporada de 2024.\n",
      "\n",
      "Coletando dados do jogador 40 de 58: Kauan Rodrigues\n",
      "O jogador Kauan Rodrigues da Silva não disputou o Brasileirão sub-20 na temporada de 2024.\n",
      "\n",
      "Coletando dados do jogador 41 de 58: Joel Reyes\n",
      "O jogador Jairo Joel Reyes Castillo não disputou o Brasileirão sub-20 na temporada de 2024.\n",
      "\n",
      "Coletando dados do jogador 42 de 58: Fabricio Dias\n",
      "Coletando dados do jogador 43 de 58: Lucca Prior\n",
      "Coletando dados do jogador 44 de 58: Pedro Garcia\n",
      "O jogador Pedro Garcia Carvalho não disputou o Brasileirão sub-20 na temporada de 2024.\n",
      "\n",
      "Coletando dados do jogador 45 de 58: Daniel Troiano\n",
      "Coletando dados do jogador 46 de 58: Felipe Mian\n",
      "O jogador Felipe Gabriel Silva Mian não disputou o Brasileirão sub-20 na temporada de 2024.\n",
      "\n",
      "Coletando dados do jogador 47 de 58: Marcos Paulo\n",
      "O jogador Marcos Paulo da Silva Correia não disputou o Brasileirão sub-20 na temporada de 2024.\n",
      "\n",
      "Coletando dados do jogador 48 de 58: Juan Fidelis\n",
      "O jogador Juan Fidelis Carvalho não disputou o Brasileirão sub-20 na temporada de 2024.\n",
      "\n",
      "Coletando dados do jogador 49 de 58: Caio Wesley\n",
      "O jogador Caio Wesley da Silva Paz não disputou o Brasileirão sub-20 na temporada de 2024.\n",
      "\n",
      "Coletando dados do jogador 50 de 58: Landerson\n",
      "Coletando dados do jogador 51 de 58: Ryan Luka\n",
      "O jogador Ryan Luka Cordeiro de Souza não disputou o Brasileirão sub-20 na temporada de 2024.\n",
      "\n",
      "Coletando dados do jogador 52 de 58: Kervin Andrade\n",
      "O jogador Kervin Mario Andrade Navarro não disputou o Brasileirão sub-20 na temporada de 2024.\n",
      "\n",
      "Coletando dados do jogador 53 de 58: Paulo Roberto\n",
      "O jogador Paulo Roberto da Silva Souza não disputou o Brasileirão sub-20 na temporada de 2024.\n",
      "\n",
      "Coletando dados do jogador 54 de 58: Iarley\n",
      "O jogador Iarley Gilberto de Barros Leal não disputou o Brasileirão sub-20 na temporada de 2024.\n",
      "\n",
      "Coletando dados do jogador 55 de 58: Jhonnata\n",
      "Coletando dados do jogador 56 de 58: Kauê Canela\n",
      "Coletando dados do jogador 57 de 58: Robinho\n",
      "Coletando dados do jogador 58 de 58: Carlos Miguel\n",
      "O jogador Carlos Miguel Ortiz Arantes Silva não disputou o Brasileirão sub-20 na temporada de 2024.\n",
      "\n",
      "\n",
      "Coleta dos dados dos jogadores do Fortaleza sub-20 referentes ao Brasileirão sub-20 de 2024, realizada com sucesso.\n"
     ]
    }
   ],
   "source": [
    "jogadores_fortaleza_sub20 = []\n",
    "\n",
    "print(\"Iniciando a coleta de dados dos jogadores...\\n\")\n",
    "\n",
    "for i, jogador in enumerate(jogadores_links):\n",
    "    print(f\"Coletando dados do jogador {i+1} de {len(jogadores_links)}: {jogador['nome']}\")\n",
    "    \n",
    "    response = requests.get(jogador[\"link\"], headers=headers)\n",
    "    soup = BeautifulSoup(response.content, 'html.parser')\n",
    "    \n",
    "    dados_jogador = {}\n",
    "    \n",
    "    # Remove o span \"Nome\", pegando apenas o nome do jogador\n",
    "    nome = soup.find(\"div\", class_=\"bio\")\n",
    "    span = nome.find(\"span\").decompose()\n",
    "    nome = nome.get_text(strip=True)\n",
    "    \n",
    "    idade = soup.select_one(\"div.bio_half span.small\").get_text(strip=True)\n",
    "    idade = idade.replace(\"(\", \"\").replace(\")\", \"\")[0:2] # pega apenas os números da idade\n",
    "    idade = int(idade)\n",
    "    \n",
    "    nacionalidade = soup.select_one(\"div.bio_half div.micrologo_and_text div.text\").get_text(strip=True)\n",
    "    \n",
    "    posicao = soup.find(\"span\", string=\"Posição\").parent.get_text(strip=True)\n",
    "    posicao = posicao.replace(\"Posição\", \"\").strip().lower()\n",
    "    \n",
    "    pe_dominante = soup.find(\"span\", string=\"Pé preferencial\").parent.get_text(strip=True)\n",
    "    pe_dominante = pe_dominante.replace(\"Pé preferencial\", \"\").strip()\n",
    "    \n",
    "    # Quando não tiver a informação do pé dominante do jogador, atribui \"N/A\"\n",
    "    if pe_dominante == \"\":\n",
    "        pe_dominante = \"N/A\"\n",
    "    \n",
    "    altura = soup.find(\"span\", string=\"Altura\").parent.get_text(strip=True)\n",
    "    altura = altura.replace(\"Altura\", \"\").replace(\"cm\", \"\").strip() # pega apenas os números da altura\n",
    "    altura = int(altura)\n",
    "    \n",
    "    # Quando não tiver a informação da altura do jogador, atribui None\n",
    "    if altura == 0:\n",
    "        altura = None\n",
    "    \n",
    "    peso = soup.find(\"span\", string=\"Peso\").parent.get_text(strip=True)\n",
    "    peso = peso.replace(\"Peso\", \"\").replace(\"kg\", \"\").strip() # pega apenas os números do peso\n",
    "    peso = int(peso)\n",
    "    \n",
    "    # Quando não tiver a informação do peso do jogador, atribui None\n",
    "    if peso == 0:\n",
    "        peso = None\n",
    "        \n",
    "    partidas_jogadas = 0\n",
    "    minutos_jogados = 0\n",
    "    gols_marcados = 0\n",
    "    gols_sofridos = 0\n",
    "    assistencias = 0\n",
    "    \n",
    "    table = soup.find(\"table\", class_=\"zztable stats\")\n",
    "    \n",
    "    if not table:\n",
    "        print(f\"O jogador {nome} não disputou o Brasileirão sub-20 na temporada de 2024.\\n\")\n",
    "    else:\n",
    "        for row in table.find_all(\"tr\")[1:-1]:\n",
    "            campeonato = row.find(\"td\", class_=\"text\")\n",
    "            \n",
    "            if campeonato is None:\n",
    "                continue\n",
    "            \n",
    "            campeonato = campeonato.get_text(strip=True)    \n",
    "            \n",
    "            if \"Brasileiro S20\" in campeonato:\n",
    "                rows = row.find_all(\"td\")[1:]\n",
    "                \n",
    "                partidas_jogadas = rows[0].get_text(strip=True)\n",
    "                partidas_jogadas = int(partidas_jogadas)\n",
    "                \n",
    "                minutos_jogados = rows[1].get_text(strip=True)\n",
    "                minutos_jogados = int(minutos_jogados)\n",
    "                \n",
    "                if posicao == \"goleiro\":\n",
    "                    gols_sofridos = rows[2].get_text(strip=True)\n",
    "                    gols_sofridos = int(gols_sofridos)\n",
    "                else:\n",
    "                    gols_marcados = rows[2].get_text(strip=True)\n",
    "                    gols_marcados = int(gols_marcados)\n",
    "                \n",
    "                assistencias = rows[3].get_text(strip=True)\n",
    "                assistencias = int(assistencias)\n",
    "        \n",
    "        if partidas_jogadas == 0:\n",
    "            print(f\"O jogador {nome} não disputou o Brasileirão sub-20 na temporada de 2024.\\n\")      \n",
    "            \n",
    "    \n",
    "    dados_jogador.update({\"nome\": nome, \n",
    "                          \"idade\": idade,\n",
    "                          \"nacionalidade\": nacionalidade,\n",
    "                          \"posicao\": posicao,\n",
    "                          \"pe_dominante\": pe_dominante,\n",
    "                          \"altura_cm\": altura,\n",
    "                          \"peso_kg\": peso,\n",
    "                          \"partidas_jogadas\": partidas_jogadas,\n",
    "                          \"minutos_jogados\": minutos_jogados,\n",
    "                          \"gols_marcados\": gols_marcados,\n",
    "                          \"gols_sofridos\": gols_sofridos,\n",
    "                          \"assistencias\": assistencias})\n",
    "    \n",
    "    jogadores_fortaleza_sub20.append(dados_jogador)\n",
    "    \n",
    "print(\"\\nColeta dos dados dos jogadores do Fortaleza sub-20 referentes ao Brasileirão sub-20 de 2024, realizada com sucesso.\")"
   ]
  },
  {
   "cell_type": "markdown",
   "id": "5ffe64c1",
   "metadata": {},
   "source": [
    "Depois de coletar todos os dados, vamos salvar esses dados em um arquivo CSV."
   ]
  },
  {
   "cell_type": "code",
   "execution_count": 13,
   "id": "cd05ca46",
   "metadata": {},
   "outputs": [],
   "source": [
    "import csv\n",
    "\n",
    "keys = jogadores_fortaleza_sub20[0].keys()\n",
    "\n",
    "with open(\"jogadores_fortaleza_sub20.csv\", \"w\", newline='', encoding=\"utf-8\") as f:\n",
    "    writer = csv.DictWriter(f, fieldnames=keys)\n",
    "    writer.writeheader()\n",
    "    writer.writerows(jogadores_fortaleza_sub20)\n"
   ]
  },
  {
   "cell_type": "markdown",
   "id": "567bf22f",
   "metadata": {},
   "source": [
    "### Validação da estrutura"
   ]
  },
  {
   "cell_type": "code",
   "execution_count": 14,
   "id": "41ce236d",
   "metadata": {},
   "outputs": [
    {
     "name": "stdout",
     "output_type": "stream",
     "text": [
      "O artilheiro do Fortaleza no Brasileirão sub-20 de 2024 foi o Kauê Canela Arroula com 11 gols marcados em 19 partidas.\n"
     ]
    }
   ],
   "source": [
    "print(f\"O artilheiro do Fortaleza no Brasileirão sub-20 de 2024 foi o {jogadores_fortaleza_sub20[55][\"nome\"]} com {jogadores_fortaleza_sub20[55][\"gols_marcados\"]} gols marcados em {jogadores_fortaleza_sub20[55][\"partidas_jogadas\"]} partidas.\")"
   ]
  },
  {
   "cell_type": "code",
   "execution_count": 15,
   "id": "25d86456",
   "metadata": {},
   "outputs": [
    {
     "name": "stdout",
     "output_type": "stream",
     "text": [
      "O zagueiro Tony Lucas Graciano da Rocha de 21 anos, disputou 18 partidas no Brasileirão sub-20 de 2024, totalizando 1533 minutos de jogo.\n"
     ]
    }
   ],
   "source": [
    "print(f\"O zagueiro {jogadores_fortaleza_sub20[20][\"nome\"]} de {jogadores_fortaleza_sub20[20][\"idade\"]} anos, disputou {jogadores_fortaleza_sub20[20][\"partidas_jogadas\"]} partidas no Brasileirão sub-20 de 2024, totalizando {jogadores_fortaleza_sub20[20][\"minutos_jogados\"]} minutos de jogo.\")"
   ]
  },
  {
   "cell_type": "code",
   "execution_count": 16,
   "id": "6fc0cd9e",
   "metadata": {},
   "outputs": [
    {
     "name": "stdout",
     "output_type": "stream",
     "text": [
      "O Alexsandro Amorim de Freitas Filho, meia (meia ofensivo) com nacionalidade do Brasil, deu 1 assistência(s) no Brasileirão sub-20 de 2024.\n"
     ]
    }
   ],
   "source": [
    "print(f\"O {jogadores_fortaleza_sub20[34][\"nome\"]}, {jogadores_fortaleza_sub20[34][\"posicao\"]} com nacionalidade do {jogadores_fortaleza_sub20[34][\"nacionalidade\"]}, deu {jogadores_fortaleza_sub20[34][\"assistencias\"]} assistência(s) no Brasileirão sub-20 de 2024.\")"
   ]
  }
 ],
 "metadata": {
  "kernelspec": {
   "display_name": "Python 3",
   "language": "python",
   "name": "python3"
  },
  "language_info": {
   "codemirror_mode": {
    "name": "ipython",
    "version": 3
   },
   "file_extension": ".py",
   "mimetype": "text/x-python",
   "name": "python",
   "nbconvert_exporter": "python",
   "pygments_lexer": "ipython3",
   "version": "3.12.0"
  }
 },
 "nbformat": 4,
 "nbformat_minor": 5
}
